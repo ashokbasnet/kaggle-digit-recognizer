{
 "cells": [
  {
   "cell_type": "markdown",
   "metadata": {},
   "source": [
    "# Import Libraries"
   ]
  },
  {
   "cell_type": "code",
   "execution_count": 19,
   "metadata": {},
   "outputs": [],
   "source": [
    "import numpy as np\n",
    "import pandas as pd\n",
    "from keras.models import Sequential\n",
    "from keras.layers import Conv2D\n",
    "from keras.layers import MaxPooling2D\n",
    "from keras.layers import Flatten\n",
    "from keras.layers import Dense\n",
    "from keras.optimizers import SGD\n",
    "from keras.utils import np_utils"
   ]
  },
  {
   "cell_type": "code",
   "execution_count": 9,
   "metadata": {
    "collapsed": true
   },
   "outputs": [],
   "source": [
    "train_df = pd.read_csv('data/train.csv')\n",
    "test_df = pd.read_csv('data/test.csv')"
   ]
  },
  {
   "cell_type": "markdown",
   "metadata": {
    "collapsed": true
   },
   "source": [
    "# Data Preprocessing"
   ]
  },
  {
   "cell_type": "code",
   "execution_count": 10,
   "metadata": {},
   "outputs": [],
   "source": [
    "train_df_X = train_df.drop(\"label\", axis=1)\n",
    "train_df_y = train_df[\"label\"]"
   ]
  },
  {
   "cell_type": "code",
   "execution_count": 11,
   "metadata": {
    "collapsed": true
   },
   "outputs": [],
   "source": [
    "X_train = train_df_X.values\n",
    "y_train = train_df_y.values\n",
    "X_test = test_df.values"
   ]
  },
  {
   "cell_type": "markdown",
   "metadata": {},
   "source": [
    "# Model Build"
   ]
  },
  {
   "cell_type": "code",
   "execution_count": 14,
   "metadata": {},
   "outputs": [],
   "source": [
    "model = Sequential()\n",
    "model.add(Dense(16, input_dim=784, activation=\"relu\"))\n",
    "model.add(Dense(16, activation=\"relu\"))\n",
    "model.add(Dense(10, activation=\"softmax\"))"
   ]
  },
  {
   "cell_type": "code",
   "execution_count": 34,
   "metadata": {},
   "outputs": [],
   "source": [
    "model.compile(loss=\"categorical_crossentropy\", optimizer='adam', metrics=[\"accuracy\"])"
   ]
  },
  {
   "cell_type": "code",
   "execution_count": 26,
   "metadata": {},
   "outputs": [],
   "source": [
    "# One hot encoding\n",
    "y_categorical = np_utils.to_categorical(y_train)"
   ]
  },
  {
   "cell_type": "code",
   "execution_count": null,
   "metadata": {},
   "outputs": [
    {
     "name": "stdout",
     "output_type": "stream",
     "text": [
      "Epoch 1/100\n",
      "42000/42000 [==============================] - 9s 218us/step - loss: 1.1275 - acc: 0.6746\n",
      "Epoch 2/100\n",
      "42000/42000 [==============================] - 9s 211us/step - loss: 0.7709 - acc: 0.7831\n",
      "Epoch 3/100\n",
      "42000/42000 [==============================] - 9s 222us/step - loss: 0.6248 - acc: 0.8403\n",
      "Epoch 4/100\n",
      "42000/42000 [==============================] - 9s 215us/step - loss: 0.5235 - acc: 0.8666\n",
      "Epoch 5/100\n",
      "42000/42000 [==============================] - 9s 209us/step - loss: 0.4677 - acc: 0.8836\n",
      "Epoch 6/100\n",
      "42000/42000 [==============================] - 9s 223us/step - loss: 0.4407 - acc: 0.8874\n",
      "Epoch 7/100\n",
      "42000/42000 [==============================] - 10s 230us/step - loss: 0.4046 - acc: 0.8948\n",
      "Epoch 8/100\n",
      "42000/42000 [==============================] - 10s 243us/step - loss: 0.3884 - acc: 0.8995\n",
      "Epoch 9/100\n",
      "42000/42000 [==============================] - 10s 245us/step - loss: 0.3672 - acc: 0.9028\n",
      "Epoch 10/100\n",
      "42000/42000 [==============================] - 10s 242us/step - loss: 0.3614 - acc: 0.9058\n",
      "Epoch 11/100\n",
      "42000/42000 [==============================] - 11s 267us/step - loss: 0.3523 - acc: 0.9062\n",
      "Epoch 12/100\n",
      "42000/42000 [==============================] - 10s 244us/step - loss: 0.3326 - acc: 0.9110\n",
      "Epoch 13/100\n",
      "42000/42000 [==============================] - 10s 241us/step - loss: 0.3309 - acc: 0.9099\n",
      "Epoch 14/100\n",
      "42000/42000 [==============================] - 11s 250us/step - loss: 0.3243 - acc: 0.9120\n",
      "Epoch 15/100\n",
      "42000/42000 [==============================] - 10s 247us/step - loss: 0.3100 - acc: 0.9160\n",
      "Epoch 16/100\n",
      "42000/42000 [==============================] - 15s 365us/step - loss: 0.3026 - acc: 0.9156\n",
      "Epoch 17/100\n",
      "42000/42000 [==============================] - 18s 433us/step - loss: 0.2903 - acc: 0.9208\n",
      "Epoch 18/100\n",
      "42000/42000 [==============================] - 13s 317us/step - loss: 0.2906 - acc: 0.9211\n",
      "Epoch 19/100\n",
      "42000/42000 [==============================] - 11s 270us/step - loss: 0.2784 - acc: 0.9236\n",
      "Epoch 20/100\n",
      "42000/42000 [==============================] - 10s 245us/step - loss: 0.2732 - acc: 0.9238\n",
      "Epoch 21/100\n",
      "42000/42000 [==============================] - 11s 254us/step - loss: 0.2691 - acc: 0.9246\n",
      "Epoch 22/100\n",
      "42000/42000 [==============================] - 10s 247us/step - loss: 0.2651 - acc: 0.9258\n",
      "Epoch 23/100\n",
      "42000/42000 [==============================] - 10s 247us/step - loss: 0.2598 - acc: 0.9289\n",
      "Epoch 24/100\n",
      "42000/42000 [==============================] - 11s 256us/step - loss: 0.2563 - acc: 0.9295\n",
      "Epoch 25/100\n",
      "42000/42000 [==============================] - 12s 278us/step - loss: 0.2569 - acc: 0.9300\n",
      "Epoch 26/100\n",
      "42000/42000 [==============================] - 14s 337us/step - loss: 0.2487 - acc: 0.9323\n",
      "Epoch 27/100\n",
      "42000/42000 [==============================] - 15s 364us/step - loss: 0.2508 - acc: 0.9306\n",
      "Epoch 28/100\n",
      "42000/42000 [==============================] - 14s 344us/step - loss: 0.2410 - acc: 0.9331\n",
      "Epoch 29/100\n",
      "42000/42000 [==============================] - 14s 340us/step - loss: 0.2483 - acc: 0.9313\n",
      "Epoch 30/100\n",
      "42000/42000 [==============================] - 14s 325us/step - loss: 0.2420 - acc: 0.9342\n",
      "Epoch 31/100\n",
      "42000/42000 [==============================] - 13s 316us/step - loss: 0.2403 - acc: 0.9338\n",
      "Epoch 32/100\n",
      "42000/42000 [==============================] - 13s 302us/step - loss: 0.2333 - acc: 0.9364\n",
      "Epoch 33/100\n",
      "42000/42000 [==============================] - 10s 232us/step - loss: 0.2318 - acc: 0.9363\n",
      "Epoch 34/100\n",
      "42000/42000 [==============================] - 9s 218us/step - loss: 0.2318 - acc: 0.9362\n",
      "Epoch 35/100\n",
      "42000/42000 [==============================] - 9s 224us/step - loss: 0.2305 - acc: 0.9374\n",
      "Epoch 36/100\n",
      "42000/42000 [==============================] - 9s 215us/step - loss: 0.2338 - acc: 0.9374\n",
      "Epoch 37/100\n",
      "42000/42000 [==============================] - 12s 290us/step - loss: 0.2244 - acc: 0.9382\n",
      "Epoch 38/100\n",
      "42000/42000 [==============================] - 12s 296us/step - loss: 0.2256 - acc: 0.9394\n",
      "Epoch 39/100\n",
      "42000/42000 [==============================] - 10s 227us/step - loss: 0.2236 - acc: 0.9391\n",
      "Epoch 40/100\n",
      "42000/42000 [==============================] - 10s 230us/step - loss: 0.2178 - acc: 0.9402\n",
      "Epoch 41/100\n",
      "42000/42000 [==============================] - 9s 213us/step - loss: 0.2257 - acc: 0.9380\n",
      "Epoch 42/100\n",
      "42000/42000 [==============================] - 9s 210us/step - loss: 0.2244 - acc: 0.9381\n",
      "Epoch 43/100\n",
      "42000/42000 [==============================] - 9s 223us/step - loss: 0.2164 - acc: 0.9413\n",
      "Epoch 44/100\n",
      "42000/42000 [==============================] - 9s 218us/step - loss: 0.2162 - acc: 0.9406\n",
      "Epoch 45/100\n",
      "42000/42000 [==============================] - 8s 200us/step - loss: 0.2189 - acc: 0.9401\n",
      "Epoch 46/100\n",
      "42000/42000 [==============================] - 8s 198us/step - loss: 0.2166 - acc: 0.9410\n",
      "Epoch 47/100\n",
      "42000/42000 [==============================] - 10s 237us/step - loss: 0.2131 - acc: 0.9399\n",
      "Epoch 48/100\n",
      "42000/42000 [==============================] - 10s 228us/step - loss: 0.2107 - acc: 0.9419\n",
      "Epoch 49/100\n",
      "42000/42000 [==============================] - 9s 215us/step - loss: 0.2075 - acc: 0.9424\n",
      "Epoch 50/100\n",
      "42000/42000 [==============================] - 11s 271us/step - loss: 0.2109 - acc: 0.9426\n",
      "Epoch 51/100\n",
      "42000/42000 [==============================] - 11s 250us/step - loss: 0.2106 - acc: 0.9429\n",
      "Epoch 52/100\n",
      "42000/42000 [==============================] - 11s 250us/step - loss: 0.2097 - acc: 0.9428\n",
      "Epoch 53/100\n",
      "42000/42000 [==============================] - 13s 311us/step - loss: 0.2081 - acc: 0.9432\n",
      "Epoch 54/100\n",
      "42000/42000 [==============================] - 13s 312us/step - loss: 0.2072 - acc: 0.9434\n",
      "Epoch 55/100\n",
      "42000/42000 [==============================] - 13s 307us/step - loss: 0.2038 - acc: 0.9450\n",
      "Epoch 56/100\n",
      "42000/42000 [==============================] - 13s 298us/step - loss: 0.2097 - acc: 0.9416\n",
      "Epoch 57/100\n",
      "42000/42000 [==============================] - 10s 238us/step - loss: 0.2031 - acc: 0.9445\n",
      "Epoch 58/100\n",
      "42000/42000 [==============================] - 11s 255us/step - loss: 0.2076 - acc: 0.9430\n",
      "Epoch 59/100\n",
      "42000/42000 [==============================] - 10s 238us/step - loss: 0.2007 - acc: 0.9449\n",
      "Epoch 60/100\n",
      "42000/42000 [==============================] - 9s 213us/step - loss: 0.2047 - acc: 0.9447\n",
      "Epoch 61/100\n",
      "42000/42000 [==============================] - 9s 204us/step - loss: 0.2063 - acc: 0.9426\n",
      "Epoch 62/100\n",
      "42000/42000 [==============================] - 9s 210us/step - loss: 0.2028 - acc: 0.9449\n",
      "Epoch 63/100\n",
      "42000/42000 [==============================] - 8s 198us/step - loss: 0.2009 - acc: 0.9454\n",
      "Epoch 64/100\n",
      "33860/42000 [=======================>......] - ETA: 1s - loss: 0.2089 - acc: 0.9442"
     ]
    }
   ],
   "source": [
    "model.fit(X_train, y_categorical, epochs=100, batch_size=20)"
   ]
  },
  {
   "cell_type": "code",
   "execution_count": 28,
   "metadata": {},
   "outputs": [
    {
     "name": "stdout",
     "output_type": "stream",
     "text": [
      "28000/28000 [==============================] - 2s 66us/step\n"
     ]
    }
   ],
   "source": [
    "class_predictions = model.predict_classes(X_test)"
   ]
  },
  {
   "cell_type": "code",
   "execution_count": 32,
   "metadata": {
    "collapsed": true
   },
   "outputs": [],
   "source": [
    "# Save to File\n",
    "pd.DataFrame({\"ImageId\": list(range(1,len(class_predictions)+1)), \"Label\": class_predictions}).to_csv('kaggle_digital_recognizer_submission.csv', index=False, header=True)"
   ]
  },
  {
   "cell_type": "code",
   "execution_count": null,
   "metadata": {
    "collapsed": true
   },
   "outputs": [],
   "source": []
  }
 ],
 "metadata": {
  "kernelspec": {
   "display_name": "Python 3",
   "language": "python",
   "name": "python3"
  },
  "language_info": {
   "codemirror_mode": {
    "name": "ipython",
    "version": 3
   },
   "file_extension": ".py",
   "mimetype": "text/x-python",
   "name": "python",
   "nbconvert_exporter": "python",
   "pygments_lexer": "ipython3",
   "version": "3.6.1"
  }
 },
 "nbformat": 4,
 "nbformat_minor": 2
}
